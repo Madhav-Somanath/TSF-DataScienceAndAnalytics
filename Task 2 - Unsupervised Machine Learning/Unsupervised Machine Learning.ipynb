{
 "cells": [
  {
   "cell_type": "markdown",
   "metadata": {},
   "source": [
    "# K-Means Clustering on the Iris Dataset\n",
    "### Task 2 - To Explore Unsupervised Machine Learning\n",
    "\n",
    "In this task, we will predict the optimum number of clusters in the Iris dataset and represent it visually."
   ]
  },
  {
   "cell_type": "markdown",
   "metadata": {},
   "source": [
    "### Importing Libraries"
   ]
  },
  {
   "cell_type": "code",
   "execution_count": 1,
   "metadata": {},
   "outputs": [],
   "source": [
    "import pandas as pd\n",
    "import numpy as np  \n",
    "import matplotlib.pyplot as plt"
   ]
  },
  {
   "cell_type": "markdown",
   "metadata": {},
   "source": [
    "### Loading the Data"
   ]
  },
  {
   "cell_type": "code",
   "execution_count": 2,
   "metadata": {},
   "outputs": [
    {
     "name": "stdout",
     "output_type": "stream",
     "text": [
      "The shape of the dataset is:  (150, 4)\n"
     ]
    },
    {
     "data": {
      "text/html": [
       "<div>\n",
       "<style scoped>\n",
       "    .dataframe tbody tr th:only-of-type {\n",
       "        vertical-align: middle;\n",
       "    }\n",
       "\n",
       "    .dataframe tbody tr th {\n",
       "        vertical-align: top;\n",
       "    }\n",
       "\n",
       "    .dataframe thead th {\n",
       "        text-align: right;\n",
       "    }\n",
       "</style>\n",
       "<table border=\"1\" class=\"dataframe\">\n",
       "  <thead>\n",
       "    <tr style=\"text-align: right;\">\n",
       "      <th></th>\n",
       "      <th>sepal length (cm)</th>\n",
       "      <th>sepal width (cm)</th>\n",
       "      <th>petal length (cm)</th>\n",
       "      <th>petal width (cm)</th>\n",
       "    </tr>\n",
       "  </thead>\n",
       "  <tbody>\n",
       "    <tr>\n",
       "      <th>0</th>\n",
       "      <td>5.1</td>\n",
       "      <td>3.5</td>\n",
       "      <td>1.4</td>\n",
       "      <td>0.2</td>\n",
       "    </tr>\n",
       "    <tr>\n",
       "      <th>1</th>\n",
       "      <td>4.9</td>\n",
       "      <td>3.0</td>\n",
       "      <td>1.4</td>\n",
       "      <td>0.2</td>\n",
       "    </tr>\n",
       "    <tr>\n",
       "      <th>2</th>\n",
       "      <td>4.7</td>\n",
       "      <td>3.2</td>\n",
       "      <td>1.3</td>\n",
       "      <td>0.2</td>\n",
       "    </tr>\n",
       "    <tr>\n",
       "      <th>3</th>\n",
       "      <td>4.6</td>\n",
       "      <td>3.1</td>\n",
       "      <td>1.5</td>\n",
       "      <td>0.2</td>\n",
       "    </tr>\n",
       "    <tr>\n",
       "      <th>4</th>\n",
       "      <td>5.0</td>\n",
       "      <td>3.6</td>\n",
       "      <td>1.4</td>\n",
       "      <td>0.2</td>\n",
       "    </tr>\n",
       "  </tbody>\n",
       "</table>\n",
       "</div>"
      ],
      "text/plain": [
       "   sepal length (cm)  sepal width (cm)  petal length (cm)  petal width (cm)\n",
       "0                5.1               3.5                1.4               0.2\n",
       "1                4.9               3.0                1.4               0.2\n",
       "2                4.7               3.2                1.3               0.2\n",
       "3                4.6               3.1                1.5               0.2\n",
       "4                5.0               3.6                1.4               0.2"
      ]
     },
     "execution_count": 2,
     "metadata": {},
     "output_type": "execute_result"
    }
   ],
   "source": [
    "from sklearn.datasets import load_iris\n",
    "iris = load_iris()\n",
    "\n",
    "X = iris.data\n",
    "\n",
    "iris_data = pd.DataFrame(X, columns = iris.feature_names)\n",
    "print(\"The shape of the dataset is: \", iris_data.shape)\n",
    "iris_data.head()"
   ]
  },
  {
   "cell_type": "markdown",
   "metadata": {},
   "source": [
    "### Determining K\n",
    "\n",
    "For K-Means clustering, we need to know the value of K, i.e. the number of clusters, beforehand. But, how do we determine K? This is where we use something called the **Elbow Method**.\n",
    "\n",
    "In the Elbow Method, we plot a graph between the number of clusters and the Within-Cluster-Sum-of-Squares (WCSS). \n",
    "\n",
    "WCSS can be defined as: \n",
    "\n",
    "$$WCSS = \\sum_{i=1}^k\\sum_{x_j \\in C_i} distance(x_j , \\mu_{C_i})^2$$\n",
    "where, \\\n",
    "__*k*__ is the number of clusters. \\\n",
    "$x_j$ represents elements of a cluster $C_i$. \\\n",
    "$\\mu_{C_i}$ represents the centroid of a cluster $C_i$.\n",
    "\n",
    "If we were to take K to be equal to the number of data points, then WCSS would be zero. In such a case, each data point would act as a centroid, making the WCSS zero.\n",
    "\n",
    "Let's take a look and understand how the Elbow Method works."
   ]
  },
  {
   "cell_type": "code",
   "execution_count": 3,
   "metadata": {},
   "outputs": [],
   "source": [
    "from sklearn.cluster import KMeans\n",
    "\n",
    "wcss = []\n",
    "for i in range(1, 11):\n",
    "   kmeans = KMeans(n_clusters = i, init = 'k-means++', random_state = 60) # We use k-means++ to avoid the random initialization trap\n",
    "   kmeans.fit(X)\n",
    "   wcss.append(kmeans.inertia_)  # kmeans.inertia_ returns the WCSS value for an initialized cluster"
   ]
  },
  {
   "cell_type": "markdown",
   "metadata": {},
   "source": [
    "Now, let's plot the Elbow Graph."
   ]
  },
  {
   "cell_type": "code",
   "execution_count": 4,
   "metadata": {},
   "outputs": [
    {
     "data": {
      "image/png": "[encoded data removed]",
      "text/plain": [
       "<Figure size 432x288 with 1 Axes>"
      ]
     },
     "metadata": {
      "needs_background": "light"
     },
     "output_type": "display_data"
    }
   ],
   "source": [
    "plt.plot(range(1, 11), wcss)\n",
    "plt.title('The Elbow Graph')\n",
    "plt.xlabel('Number of Clusters')\n",
    "plt.ylabel('WCSS')\n",
    "plt.show()"
   ]
  },
  {
   "cell_type": "markdown",
   "metadata": {},
   "source": [
    "From the graph, we can see that with an increase in the number of clusters, the WCSS value decreases. We select the value for K on the basis of the rate of decrease in WCSS. The optimal number of clusters is where the elbow occurs. In the above graph, we see a huge drop in WCSS before 3. After 3, the drop is minimal. Therefore, the optimal number of clusters is 3, i.e. K = 3."
   ]
  },
  {
   "cell_type": "markdown",
   "metadata": {},
   "source": [
    "### Training the Algorithm"
   ]
  },
  {
   "cell_type": "code",
   "execution_count": 5,
   "metadata": {},
   "outputs": [],
   "source": [
    "kmeans = KMeans(n_clusters = 3, init = 'k-means++', random_state = 60)\n",
    "y = kmeans.fit_predict(X)"
   ]
  },
  {
   "cell_type": "markdown",
   "metadata": {},
   "source": [
    "### Visualising the Clusters"
   ]
  },
  {
   "cell_type": "code",
   "execution_count": 6,
   "metadata": {},
   "outputs": [
    {
     "data": {
      "image/png": "[encoded data removed]",
      "text/plain": [
       "<Figure size 1008x288 with 2 Axes>"
      ]
     },
     "metadata": {
      "needs_background": "light"
     },
     "output_type": "display_data"
    }
   ],
   "source": [
    "f, (ax1, ax2) = plt.subplots(1, 2, figsize=(14,4))\n",
    "\n",
    "# Sepal Length vs. Sepal Width\n",
    "ax1.scatter(X[y == 0, 0], X[y == 0, 1], c = 'darkorange', label = 'Cluster 1' )\n",
    "ax1.scatter(X[y == 1, 0], X[y == 1, 1], c = 'm', label = 'Cluster 2' )\n",
    "ax1.scatter(X[y == 2, 0], X[y == 2, 1], c = 'royalblue', label = 'Cluster 3' )\n",
    "\n",
    "centers = kmeans.cluster_centers_\n",
    "ax1.scatter(centers[:, 0], centers[:, 1], c='black', label = 'Centroids')\n",
    "\n",
    "ax1.title.set_text('Clusters')\n",
    "ax1.set_xlabel('Sepal Length')\n",
    "ax1.set_ylabel('Sepal Width')\n",
    "ax1.legend()\n",
    "\n",
    "# Petal Length vs. Petal Width\n",
    "ax2.scatter(X[y == 0, 2], X[y == 0, 3], c = 'darkorange', label = 'Cluster 1' )\n",
    "ax2.scatter(X[y == 1, 2], X[y == 1, 3], c = 'm', label = 'Cluster 2' )\n",
    "ax2.scatter(X[y == 2, 2], X[y == 2, 3], c = 'royalblue', label = 'Cluster 3' )\n",
    "\n",
    "centers = kmeans.cluster_centers_\n",
    "ax2.scatter(centers[:, 2], centers[:, 3], c='black', label = 'Centroids')\n",
    "\n",
    "ax2.title.set_text('Clusters')\n",
    "ax2.set_xlabel('Petal Length')\n",
    "ax2.set_ylabel('Petal Width')\n",
    "ax2.legend()\n",
    "\n",
    "plt.show()"
   ]
  },
  {
   "cell_type": "markdown",
   "metadata": {},
   "source": [
    "With this, we have been successful in performing K-means Clustering on the Iris dataset!\n",
    "\n",
    "Note that we have plotted 2D graphs for sepals and petals individually, for ease of visualization, because a 4D scatter plot would be hard to visualize."
   ]
  }
 ],
 "metadata": {
  "kernelspec": {
   "display_name": "Python 3",
   "language": "python",
   "name": "python3"
  },
  "language_info": {
   "codemirror_mode": {
    "name": "ipython",
    "version": 3
   },
   "file_extension": ".py",
   "mimetype": "text/x-python",
   "name": "python",
   "nbconvert_exporter": "python",
   "pygments_lexer": "ipython3",
   "version": "3.7.3"
  }
 },
 "nbformat": 4,
 "nbformat_minor": 2
}
