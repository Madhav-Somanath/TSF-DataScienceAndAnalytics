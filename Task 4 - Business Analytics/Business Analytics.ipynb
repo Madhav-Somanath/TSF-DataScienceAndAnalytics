{
  "nbformat": 4,
  "nbformat_minor": 0,
  "metadata": {
    "colab": {
      "name": "Business_Analytics.ipynb",
      "provenance": [],
      "collapsed_sections": []
    },
    "kernelspec": {
      "name": "python3",
      "display_name": "Python 3"
    }
  },
  "cells": [
    {
      "cell_type": "markdown",
      "metadata": {
        "id": "B25iCpvasElN",
        "colab_type": "text"
      },
      "source": [
        "## Exploratory Data Analysis for a Retail Firm\n",
        "### Task 4 - To Explore Business Analytics\n",
        "\n",
        "In this task, we will perform Exploratory Data Analysis on the provided dataset: SampleSuperstore.\n",
        "\n",
        "You are the business owner of the retail firm and want to see how your company is performing. You are interested in finding out the weak areas where you can work to make more profit. What all business problems you can derive by looking into the data?"
      ]
    },
    {
      "cell_type": "markdown",
      "metadata": {
        "id": "BBhbzmlnW4rg",
        "colab_type": "text"
      },
      "source": [
        "### Importing Libraries"
      ]
    },
    {
      "cell_type": "code",
      "metadata": {
        "id": "3w2Y0w_OhkLq",
        "colab_type": "code",
        "colab": {}
      },
      "source": [
        "import pandas as pd\n",
        "import numpy as np  \n",
        "import matplotlib.pyplot as plt\n",
        "import seaborn as sns"
      ],
      "execution_count": 310,
      "outputs": []
    },
    {
      "cell_type": "markdown",
      "metadata": {
        "id": "HowoEqUXW9i7",
        "colab_type": "text"
      },
      "source": [
        "### Loading the Data"
      ]
    },
    {
      "cell_type": "code",
      "metadata": {
        "id": "DBkqXI3BhtHa",
        "colab_type": "code",
        "colab": {
          "base_uri": "https://localhost:8080/",
          "height": 204
        },
        "outputId": "82762255-16fc-4b74-b40c-e07e7fb28294"
      },
      "source": [
        "data = pd.read_csv('SampleSuperstore.csv')\n",
        "data.head()"
      ],
      "execution_count": 311,
      "outputs": [
        {
          "output_type": "execute_result",
          "data": {
            "text/html": [
              "<div>\n",
              "<style scoped>\n",
              "    .dataframe tbody tr th:only-of-type {\n",
              "        vertical-align: middle;\n",
              "    }\n",
              "\n",
              "    .dataframe tbody tr th {\n",
              "        vertical-align: top;\n",
              "    }\n",
              "\n",
              "    .dataframe thead th {\n",
              "        text-align: right;\n",
              "    }\n",
              "</style>\n",
              "<table border=\"1\" class=\"dataframe\">\n",
              "  <thead>\n",
              "    <tr style=\"text-align: right;\">\n",
              "      <th></th>\n",
              "      <th>Ship Mode</th>\n",
              "      <th>Segment</th>\n",
              "      <th>Country</th>\n",
              "      <th>City</th>\n",
              "      <th>State</th>\n",
              "      <th>Postal Code</th>\n",
              "      <th>Region</th>\n",
              "      <th>Category</th>\n",
              "      <th>Sub-Category</th>\n",
              "      <th>Sales</th>\n",
              "      <th>Quantity</th>\n",
              "      <th>Discount</th>\n",
              "      <th>Profit</th>\n",
              "    </tr>\n",
              "  </thead>\n",
              "  <tbody>\n",
              "    <tr>\n",
              "      <th>0</th>\n",
              "      <td>Second Class</td>\n",
              "      <td>Consumer</td>\n",
              "      <td>United States</td>\n",
              "      <td>Henderson</td>\n",
              "      <td>Kentucky</td>\n",
              "      <td>42420</td>\n",
              "      <td>South</td>\n",
              "      <td>Furniture</td>\n",
              "      <td>Bookcases</td>\n",
              "      <td>261.9600</td>\n",
              "      <td>2</td>\n",
              "      <td>0.00</td>\n",
              "      <td>41.9136</td>\n",
              "    </tr>\n",
              "    <tr>\n",
              "      <th>1</th>\n",
              "      <td>Second Class</td>\n",
              "      <td>Consumer</td>\n",
              "      <td>United States</td>\n",
              "      <td>Henderson</td>\n",
              "      <td>Kentucky</td>\n",
              "      <td>42420</td>\n",
              "      <td>South</td>\n",
              "      <td>Furniture</td>\n",
              "      <td>Chairs</td>\n",
              "      <td>731.9400</td>\n",
              "      <td>3</td>\n",
              "      <td>0.00</td>\n",
              "      <td>219.5820</td>\n",
              "    </tr>\n",
              "    <tr>\n",
              "      <th>2</th>\n",
              "      <td>Second Class</td>\n",
              "      <td>Corporate</td>\n",
              "      <td>United States</td>\n",
              "      <td>Los Angeles</td>\n",
              "      <td>California</td>\n",
              "      <td>90036</td>\n",
              "      <td>West</td>\n",
              "      <td>Office Supplies</td>\n",
              "      <td>Labels</td>\n",
              "      <td>14.6200</td>\n",
              "      <td>2</td>\n",
              "      <td>0.00</td>\n",
              "      <td>6.8714</td>\n",
              "    </tr>\n",
              "    <tr>\n",
              "      <th>3</th>\n",
              "      <td>Standard Class</td>\n",
              "      <td>Consumer</td>\n",
              "      <td>United States</td>\n",
              "      <td>Fort Lauderdale</td>\n",
              "      <td>Florida</td>\n",
              "      <td>33311</td>\n",
              "      <td>South</td>\n",
              "      <td>Furniture</td>\n",
              "      <td>Tables</td>\n",
              "      <td>957.5775</td>\n",
              "      <td>5</td>\n",
              "      <td>0.45</td>\n",
              "      <td>-383.0310</td>\n",
              "    </tr>\n",
              "    <tr>\n",
              "      <th>4</th>\n",
              "      <td>Standard Class</td>\n",
              "      <td>Consumer</td>\n",
              "      <td>United States</td>\n",
              "      <td>Fort Lauderdale</td>\n",
              "      <td>Florida</td>\n",
              "      <td>33311</td>\n",
              "      <td>South</td>\n",
              "      <td>Office Supplies</td>\n",
              "      <td>Storage</td>\n",
              "      <td>22.3680</td>\n",
              "      <td>2</td>\n",
              "      <td>0.20</td>\n",
              "      <td>2.5164</td>\n",
              "    </tr>\n",
              "  </tbody>\n",
              "</table>\n",
              "</div>"
            ],
            "text/plain": [
              "        Ship Mode    Segment        Country  ... Quantity Discount    Profit\n",
              "0    Second Class   Consumer  United States  ...        2     0.00   41.9136\n",
              "1    Second Class   Consumer  United States  ...        3     0.00  219.5820\n",
              "2    Second Class  Corporate  United States  ...        2     0.00    6.8714\n",
              "3  Standard Class   Consumer  United States  ...        5     0.45 -383.0310\n",
              "4  Standard Class   Consumer  United States  ...        2     0.20    2.5164\n",
              "\n",
              "[5 rows x 13 columns]"
            ]
          },
          "metadata": {
            "tags": []
          },
          "execution_count": 311
        }
      ]
    },
    {
      "cell_type": "code",
      "metadata": {
        "id": "Y0uC9PsVh1I5",
        "colab_type": "code",
        "colab": {
          "base_uri": "https://localhost:8080/",
          "height": 51
        },
        "outputId": "831bd448-4f8b-4d09-ea64-5f2fcc4f255c"
      },
      "source": [
        "print(data.shape)\n",
        "print(data.columns.tolist())"
      ],
      "execution_count": 312,
      "outputs": [
        {
          "output_type": "stream",
          "text": [
            "(9994, 13)\n",
            "['Ship Mode', 'Segment', 'Country', 'City', 'State', 'Postal Code', 'Region', 'Category', 'Sub-Category', 'Sales', 'Quantity', 'Discount', 'Profit']\n"
          ],
          "name": "stdout"
        }
      ]
    },
    {
      "cell_type": "markdown",
      "metadata": {
        "id": "aI6BVsO7Yq7_",
        "colab_type": "text"
      },
      "source": [
        "### Data Preprocessing"
      ]
    },
    {
      "cell_type": "markdown",
      "metadata": {
        "id": "J5gnmP3oXLCm",
        "colab_type": "text"
      },
      "source": [
        "Let's check if the dataset contains null values."
      ]
    },
    {
      "cell_type": "code",
      "metadata": {
        "id": "kwu9GR24iHdV",
        "colab_type": "code",
        "colab": {
          "base_uri": "https://localhost:8080/",
          "height": 255
        },
        "outputId": "b8f9cf93-959f-43e4-f37b-f946e458464b"
      },
      "source": [
        "data.isnull().sum()"
      ],
      "execution_count": 313,
      "outputs": [
        {
          "output_type": "execute_result",
          "data": {
            "text/plain": [
              "Ship Mode       0\n",
              "Segment         0\n",
              "Country         0\n",
              "City            0\n",
              "State           0\n",
              "Postal Code     0\n",
              "Region          0\n",
              "Category        0\n",
              "Sub-Category    0\n",
              "Sales           0\n",
              "Quantity        0\n",
              "Discount        0\n",
              "Profit          0\n",
              "dtype: int64"
            ]
          },
          "metadata": {
            "tags": []
          },
          "execution_count": 313
        }
      ]
    },
    {
      "cell_type": "markdown",
      "metadata": {
        "id": "IMy3KbMbXd_h",
        "colab_type": "text"
      },
      "source": [
        "Let's check if the dataset contains duplicate rows."
      ]
    },
    {
      "cell_type": "code",
      "metadata": {
        "id": "Rq5JmUniXReX",
        "colab_type": "code",
        "colab": {
          "base_uri": "https://localhost:8080/",
          "height": 34
        },
        "outputId": "cb5e1cd9-8ebd-4d1b-a7bc-67a7dd29878d"
      },
      "source": [
        "data.duplicated().sum()"
      ],
      "execution_count": 314,
      "outputs": [
        {
          "output_type": "execute_result",
          "data": {
            "text/plain": [
              "17"
            ]
          },
          "metadata": {
            "tags": []
          },
          "execution_count": 314
        }
      ]
    },
    {
      "cell_type": "markdown",
      "metadata": {
        "id": "Eotr44PGXuLo",
        "colab_type": "text"
      },
      "source": [
        "We see that our dataset has 17 duplicated rows. Let's delete them."
      ]
    },
    {
      "cell_type": "code",
      "metadata": {
        "id": "n5QJkQhnxkvk",
        "colab_type": "code",
        "colab": {
          "base_uri": "https://localhost:8080/",
          "height": 34
        },
        "outputId": "8c75e7b8-2837-4d8d-8d79-9cd5402d4fa5"
      },
      "source": [
        "data.drop_duplicates(keep = 'first', inplace = True)\n",
        "data.shape"
      ],
      "execution_count": 315,
      "outputs": [
        {
          "output_type": "execute_result",
          "data": {
            "text/plain": [
              "(9977, 13)"
            ]
          },
          "metadata": {
            "tags": []
          },
          "execution_count": 315
        }
      ]
    },
    {
      "cell_type": "markdown",
      "metadata": {
        "id": "t0QnBNIjXxoL",
        "colab_type": "text"
      },
      "source": [
        "Let's check for the unique values in each column."
      ]
    },
    {
      "cell_type": "code",
      "metadata": {
        "id": "_-9PavddiN1g",
        "colab_type": "code",
        "colab": {
          "base_uri": "https://localhost:8080/",
          "height": 190
        },
        "outputId": "d005b26f-d3d2-497a-c671-e439b6291ef8"
      },
      "source": [
        "for column in data.columns.tolist():\n",
        "  if len(data[column].unique()) < 50:\n",
        "    print(column, '  :  ', data[column].unique().tolist())"
      ],
      "execution_count": 316,
      "outputs": [
        {
          "output_type": "stream",
          "text": [
            "Ship Mode   :   ['Second Class', 'Standard Class', 'First Class', 'Same Day']\n",
            "Segment   :   ['Consumer', 'Corporate', 'Home Office']\n",
            "Country   :   ['United States']\n",
            "State   :   ['Kentucky', 'California', 'Florida', 'North Carolina', 'Washington', 'Texas', 'Wisconsin', 'Utah', 'Nebraska', 'Pennsylvania', 'Illinois', 'Minnesota', 'Michigan', 'Delaware', 'Indiana', 'New York', 'Arizona', 'Virginia', 'Tennessee', 'Alabama', 'South Carolina', 'Oregon', 'Colorado', 'Iowa', 'Ohio', 'Missouri', 'Oklahoma', 'New Mexico', 'Louisiana', 'Connecticut', 'New Jersey', 'Massachusetts', 'Georgia', 'Nevada', 'Rhode Island', 'Mississippi', 'Arkansas', 'Montana', 'New Hampshire', 'Maryland', 'District of Columbia', 'Kansas', 'Vermont', 'Maine', 'South Dakota', 'Idaho', 'North Dakota', 'Wyoming', 'West Virginia']\n",
            "Region   :   ['South', 'West', 'Central', 'East']\n",
            "Category   :   ['Furniture', 'Office Supplies', 'Technology']\n",
            "Sub-Category   :   ['Bookcases', 'Chairs', 'Labels', 'Tables', 'Storage', 'Furnishings', 'Art', 'Phones', 'Binders', 'Appliances', 'Paper', 'Accessories', 'Envelopes', 'Fasteners', 'Supplies', 'Machines', 'Copiers']\n",
            "Quantity   :   [2, 3, 5, 7, 4, 6, 9, 1, 8, 14, 11, 13, 10, 12]\n",
            "Discount   :   [0.0, 0.45, 0.2, 0.8, 0.3, 0.5, 0.7, 0.6, 0.32, 0.1, 0.4, 0.15]\n"
          ],
          "name": "stdout"
        }
      ]
    },
    {
      "cell_type": "markdown",
      "metadata": {
        "id": "-b2Qa8AJYbKX",
        "colab_type": "text"
      },
      "source": [
        "We can see that the column *Country* has only one value. Therefore, let's get rid of this column."
      ]
    },
    {
      "cell_type": "code",
      "metadata": {
        "id": "Z9QxzB3NjAFj",
        "colab_type": "code",
        "colab": {
          "base_uri": "https://localhost:8080/",
          "height": 204
        },
        "outputId": "f5280165-05c4-4482-8bb5-e1003ec15e8f"
      },
      "source": [
        "data.drop(columns = 'Country', inplace = True)\n",
        "data.head()"
      ],
      "execution_count": 317,
      "outputs": [
        {
          "output_type": "execute_result",
          "data": {
            "text/html": [
              "<div>\n",
              "<style scoped>\n",
              "    .dataframe tbody tr th:only-of-type {\n",
              "        vertical-align: middle;\n",
              "    }\n",
              "\n",
              "    .dataframe tbody tr th {\n",
              "        vertical-align: top;\n",
              "    }\n",
              "\n",
              "    .dataframe thead th {\n",
              "        text-align: right;\n",
              "    }\n",
              "</style>\n",
              "<table border=\"1\" class=\"dataframe\">\n",
              "  <thead>\n",
              "    <tr style=\"text-align: right;\">\n",
              "      <th></th>\n",
              "      <th>Ship Mode</th>\n",
              "      <th>Segment</th>\n",
              "      <th>City</th>\n",
              "      <th>State</th>\n",
              "      <th>Postal Code</th>\n",
              "      <th>Region</th>\n",
              "      <th>Category</th>\n",
              "      <th>Sub-Category</th>\n",
              "      <th>Sales</th>\n",
              "      <th>Quantity</th>\n",
              "      <th>Discount</th>\n",
              "      <th>Profit</th>\n",
              "    </tr>\n",
              "  </thead>\n",
              "  <tbody>\n",
              "    <tr>\n",
              "      <th>0</th>\n",
              "      <td>Second Class</td>\n",
              "      <td>Consumer</td>\n",
              "      <td>Henderson</td>\n",
              "      <td>Kentucky</td>\n",
              "      <td>42420</td>\n",
              "      <td>South</td>\n",
              "      <td>Furniture</td>\n",
              "      <td>Bookcases</td>\n",
              "      <td>261.9600</td>\n",
              "      <td>2</td>\n",
              "      <td>0.00</td>\n",
              "      <td>41.9136</td>\n",
              "    </tr>\n",
              "    <tr>\n",
              "      <th>1</th>\n",
              "      <td>Second Class</td>\n",
              "      <td>Consumer</td>\n",
              "      <td>Henderson</td>\n",
              "      <td>Kentucky</td>\n",
              "      <td>42420</td>\n",
              "      <td>South</td>\n",
              "      <td>Furniture</td>\n",
              "      <td>Chairs</td>\n",
              "      <td>731.9400</td>\n",
              "      <td>3</td>\n",
              "      <td>0.00</td>\n",
              "      <td>219.5820</td>\n",
              "    </tr>\n",
              "    <tr>\n",
              "      <th>2</th>\n",
              "      <td>Second Class</td>\n",
              "      <td>Corporate</td>\n",
              "      <td>Los Angeles</td>\n",
              "      <td>California</td>\n",
              "      <td>90036</td>\n",
              "      <td>West</td>\n",
              "      <td>Office Supplies</td>\n",
              "      <td>Labels</td>\n",
              "      <td>14.6200</td>\n",
              "      <td>2</td>\n",
              "      <td>0.00</td>\n",
              "      <td>6.8714</td>\n",
              "    </tr>\n",
              "    <tr>\n",
              "      <th>3</th>\n",
              "      <td>Standard Class</td>\n",
              "      <td>Consumer</td>\n",
              "      <td>Fort Lauderdale</td>\n",
              "      <td>Florida</td>\n",
              "      <td>33311</td>\n",
              "      <td>South</td>\n",
              "      <td>Furniture</td>\n",
              "      <td>Tables</td>\n",
              "      <td>957.5775</td>\n",
              "      <td>5</td>\n",
              "      <td>0.45</td>\n",
              "      <td>-383.0310</td>\n",
              "    </tr>\n",
              "    <tr>\n",
              "      <th>4</th>\n",
              "      <td>Standard Class</td>\n",
              "      <td>Consumer</td>\n",
              "      <td>Fort Lauderdale</td>\n",
              "      <td>Florida</td>\n",
              "      <td>33311</td>\n",
              "      <td>South</td>\n",
              "      <td>Office Supplies</td>\n",
              "      <td>Storage</td>\n",
              "      <td>22.3680</td>\n",
              "      <td>2</td>\n",
              "      <td>0.20</td>\n",
              "      <td>2.5164</td>\n",
              "    </tr>\n",
              "  </tbody>\n",
              "</table>\n",
              "</div>"
            ],
            "text/plain": [
              "        Ship Mode    Segment             City  ... Quantity  Discount    Profit\n",
              "0    Second Class   Consumer        Henderson  ...        2      0.00   41.9136\n",
              "1    Second Class   Consumer        Henderson  ...        3      0.00  219.5820\n",
              "2    Second Class  Corporate      Los Angeles  ...        2      0.00    6.8714\n",
              "3  Standard Class   Consumer  Fort Lauderdale  ...        5      0.45 -383.0310\n",
              "4  Standard Class   Consumer  Fort Lauderdale  ...        2      0.20    2.5164\n",
              "\n",
              "[5 rows x 12 columns]"
            ]
          },
          "metadata": {
            "tags": []
          },
          "execution_count": 317
        }
      ]
    },
    {
      "cell_type": "markdown",
      "metadata": {
        "id": "o6rw6s9XYuun",
        "colab_type": "text"
      },
      "source": [
        "### Exploratory Data Analysis"
      ]
    },
    {
      "cell_type": "markdown",
      "metadata": {
        "id": "72xGemvWYzKc",
        "colab_type": "text"
      },
      "source": [
        "Now, let's visualise the count plot and Bar Plots for Sales and Profit for the columns: Ship Mode, Segment, Region, and Category."
      ]
    },
    {
      "cell_type": "code",
      "metadata": {
        "id": "LQnSOq8G6F20",
        "colab_type": "code",
        "colab": {
          "base_uri": "https://localhost:8080/",
          "height": 274
        },
        "outputId": "cf4bfe00-694a-4b4d-d33e-52563d96f12c"
      },
      "source": [
        "f, ax = plt.subplots(1, 3, figsize=(20,4))\n",
        "\n",
        "sns.countplot(data['Ship Mode'], color = 'steelblue', order = data['Ship Mode'].value_counts().index, ax=ax[0])\n",
        "ax[0].title.set_text(\"Order Count of Ship Mode\")\n",
        "ax[0].set_xlabel(\"Ship Mode\")\n",
        "ax[0].set_ylabel(\"Orders\")\n",
        "\n",
        "\n",
        "ship_sale_profit = data.groupby('Ship Mode')[['Sales', 'Profit']].sum()\n",
        "\n",
        "ship_sale_profit.sort_values(['Sales'], axis = 0, ascending = False, inplace = True) \n",
        "ship_sale_profit.plot(y='Sales', kind = \"bar\", color = 'steelblue', ax=ax[1])\n",
        "\n",
        "ax[1].title.set_text('Sales in each Ship Mode')\n",
        "ax[1].set_xlabel('Ship Mode')\n",
        "ax[1].set_ylabel('Sales')\n",
        "ax[1].get_legend().remove()\n",
        "\n",
        "\n",
        "ship_sale_profit.sort_values(['Profit'], axis = 0, ascending = False, inplace = True) \n",
        "ship_sale_profit.plot(y='Profit', kind = \"bar\", color = 'steelblue', ax=ax[2])\n",
        "\n",
        "ax[2].title.set_text('Profit in each Ship Mode')\n",
        "ax[2].set_xlabel('Ship Mode')\n",
        "ax[2].set_ylabel('Profit')\n",
        "ax[2].get_legend().remove()\n",
        "\n",
        "f.autofmt_xdate(rotation=0, ha='center')\n",
        "plt.show()"
      ],
      "execution_count": 318,
      "outputs": [
        {
          "output_type": "display_data",
          "data": {
            "image/png": "[encoded data removed]",
            "text/plain": [
              "<Figure size 1440x288 with 3 Axes>"
            ]
          },
          "metadata": {
            "tags": [],
            "needs_background": "light"
          }
        }
      ]
    },
    {
      "cell_type": "markdown",
      "metadata": {
        "id": "s-mgpf9BZOZY",
        "colab_type": "text"
      },
      "source": [
        "We observe that Standard Class is the most popular shipping mode and Same Day is the least popular. Because Standard Class has the most shipments and it is a cheap shipping mode, it makes sense for it to be the most profitable."
      ]
    },
    {
      "cell_type": "code",
      "metadata": {
        "id": "8I2nDe6cDoI-",
        "colab_type": "code",
        "colab": {
          "base_uri": "https://localhost:8080/",
          "height": 274
        },
        "outputId": "ad08045d-90e5-43ef-8cb2-44be732e032d"
      },
      "source": [
        "f, ax = plt.subplots(1, 3, figsize=(20,4))\n",
        "\n",
        "sns.countplot(data['Segment'], color = 'limegreen', order = data['Segment'].value_counts().index, ax=ax[0])\n",
        "ax[0].title.set_text(\"Order Count of Segment\")\n",
        "ax[0].set_xlabel(\"Segment\")\n",
        "ax[0].set_ylabel(\"Orders\")\n",
        "\n",
        "\n",
        "segment_sale_profit = data.groupby('Segment')[['Sales', 'Profit']].sum()\n",
        "\n",
        "segment_sale_profit.sort_values(['Sales'], axis = 0, ascending = False, inplace = True) \n",
        "segment_sale_profit.plot(y='Sales', kind = \"bar\", color = 'limegreen', ax=ax[1])\n",
        "\n",
        "ax[1].title.set_text('Sales in each Segment')\n",
        "ax[1].set_xlabel('Segment')\n",
        "ax[1].set_ylabel('Sales')\n",
        "ax[1].get_legend().remove()\n",
        "\n",
        "\n",
        "segment_sale_profit.sort_values(['Profit'], axis = 0, ascending = False, inplace = True) \n",
        "segment_sale_profit.plot(y='Profit', kind = \"bar\", color = 'limegreen', ax=ax[2])\n",
        "\n",
        "ax[2].title.set_text('Profit in each Segment')\n",
        "ax[2].set_xlabel('Segment')\n",
        "ax[2].set_ylabel('Profit')\n",
        "ax[2].get_legend().remove()\n",
        "\n",
        "f.autofmt_xdate(rotation=0, ha='center')\n",
        "plt.show()"
      ],
      "execution_count": 319,
      "outputs": [
        {
          "output_type": "display_data",
          "data": {
            "image/png": "[encoded data removed]",
            "text/plain": [
              "<Figure size 1440x288 with 3 Axes>"
            ]
          },
          "metadata": {
            "tags": [],
            "needs_background": "light"
          }
        }
      ]
    },
    {
      "cell_type": "markdown",
      "metadata": {
        "id": "iiy3_9tYZaxX",
        "colab_type": "text"
      },
      "source": [
        "We observe that Consumer is the major segment, while Home Office contributes the least."
      ]
    },
    {
      "cell_type": "code",
      "metadata": {
        "id": "d5f21qw_EaVY",
        "colab_type": "code",
        "colab": {
          "base_uri": "https://localhost:8080/",
          "height": 274
        },
        "outputId": "f044e095-a9d7-4f93-dffd-b8e78b4f6e2a"
      },
      "source": [
        "f, ax = plt.subplots(1, 3, figsize=(20,4))\n",
        "\n",
        "sns.countplot(data['Region'], color = 'darkorange', order = data['Region'].value_counts().index, ax=ax[0])\n",
        "ax[0].title.set_text(\"Order Count of Region\")\n",
        "ax[0].set_xlabel(\"Region\")\n",
        "ax[0].set_ylabel(\"Orders\")\n",
        "\n",
        "\n",
        "region_sale_profit = data.groupby('Region')[['Sales', 'Profit']].sum()\n",
        "\n",
        "region_sale_profit.sort_values(['Sales'], axis = 0, ascending = False, inplace = True) \n",
        "region_sale_profit.plot(y='Sales', kind = \"bar\", color = 'darkorange', ax=ax[1])\n",
        "\n",
        "ax[1].title.set_text('Sales in each Region')\n",
        "ax[1].set_xlabel('Region')\n",
        "ax[1].set_ylabel('Sales')\n",
        "ax[1].get_legend().remove()\n",
        "\n",
        "\n",
        "region_sale_profit.sort_values(['Profit'], axis = 0, ascending = False, inplace = True) \n",
        "region_sale_profit.plot(y='Profit', kind = \"bar\", color = 'darkorange', ax=ax[2])\n",
        "\n",
        "ax[2].title.set_text('Profit in each Region')\n",
        "ax[2].set_xlabel('Region')\n",
        "ax[2].set_ylabel('Profit')\n",
        "ax[2].get_legend().remove()\n",
        "\n",
        "f.autofmt_xdate(rotation=0, ha='center')\n",
        "plt.show()"
      ],
      "execution_count": 320,
      "outputs": [
        {
          "output_type": "display_data",
          "data": {
            "image/png": "[encoded data removed]",
            "text/plain": [
              "<Figure size 1440x288 with 3 Axes>"
            ]
          },
          "metadata": {
            "tags": [],
            "needs_background": "light"
          }
        }
      ]
    },
    {
      "cell_type": "markdown",
      "metadata": {
        "id": "aJuPxM7sZ6Zx",
        "colab_type": "text"
      },
      "source": [
        "We observe that West consists of most buyers while South consists of the least. Central region is the least profitable."
      ]
    },
    {
      "cell_type": "code",
      "metadata": {
        "id": "yzbILByqEypL",
        "colab_type": "code",
        "colab": {
          "base_uri": "https://localhost:8080/",
          "height": 274
        },
        "outputId": "1fddcad8-1133-4378-834d-e3109b8ce0a2"
      },
      "source": [
        "f, ax = plt.subplots(1, 3, figsize=(20,4))\n",
        "\n",
        "sns.countplot(data['Category'], color = 'rebeccapurple', order = data['Category'].value_counts().index, ax=ax[0])\n",
        "ax[0].title.set_text(\"Order Count of Category\")\n",
        "ax[0].set_xlabel(\"Category\")\n",
        "ax[0].set_ylabel(\"Orders\")\n",
        "\n",
        "\n",
        "category_sale_profit = data.groupby('Category')[['Sales', 'Profit']].sum()\n",
        "\n",
        "category_sale_profit.sort_values(['Sales'], axis = 0, ascending = False, inplace = True) \n",
        "category_sale_profit.plot(y='Sales', kind = \"bar\", color = 'rebeccapurple', ax=ax[1])\n",
        "\n",
        "ax[1].title.set_text('Sales in each Category')\n",
        "ax[1].set_xlabel('Category')\n",
        "ax[1].set_ylabel('Sales')\n",
        "ax[1].get_legend().remove()\n",
        "\n",
        "\n",
        "category_sale_profit.sort_values(['Profit'], axis = 0, ascending = False, inplace = True)\n",
        "category_sale_profit.plot(y='Profit', kind = \"bar\", color = 'rebeccapurple', ax=ax[2])\n",
        "\n",
        "ax[2].title.set_text('Profit in each Category')\n",
        "ax[2].set_xlabel('Category')\n",
        "ax[2].set_ylabel('Profit')\n",
        "ax[2].get_legend().remove()\n",
        "\n",
        "f.autofmt_xdate(rotation=0, ha='center')\n",
        "plt.show()"
      ],
      "execution_count": 321,
      "outputs": [
        {
          "output_type": "display_data",
          "data": {
            "image/png": "[encoded data removed]",
            "text/plain": [
              "<Figure size 1440x288 with 3 Axes>"
            ]
          },
          "metadata": {
            "tags": [],
            "needs_background": "light"
          }
        }
      ]
    },
    {
      "cell_type": "markdown",
      "metadata": {
        "id": "8ipk7-kPa1yb",
        "colab_type": "text"
      },
      "source": [
        "We observe that the frequency of purchases in the Office Supplies category is significantly large as compared to Technology and Furniture. However, the sales amount for Technology is the highest, which makes sense because technological equipments are expensive, thus resulting in a larger sales despite a lower frequency of purchase.\n",
        "When we observe the Profit graph, we can see that Technology brings in the highest profit. But, the profit brought in by Furniture is very low considering that it has the second-highest sales, only a little different from Office Supplies. But, Office Supplies results in good profit."
      ]
    },
    {
      "cell_type": "markdown",
      "metadata": {
        "id": "SjjTPJDqcYeK",
        "colab_type": "text"
      },
      "source": [
        "Now, let's visualise the count plot for State."
      ]
    },
    {
      "cell_type": "code",
      "metadata": {
        "id": "HPcD5Di5G9Er",
        "colab_type": "code",
        "colab": {
          "base_uri": "https://localhost:8080/",
          "height": 602
        },
        "outputId": "4b15fc3f-f386-4c2d-ce0e-162152b4730a"
      },
      "source": [
        "plt.figure(figsize=(20,8))\n",
        "sns.countplot(data['State'], order = data['State'].value_counts().index, palette = 'plasma')\n",
        "\n",
        "plt.title(\"Order Count for States\")\n",
        "plt.xticks(rotation=90)\n",
        "plt.xlabel(\"State\")\n",
        "plt.ylabel(\"Count\")\n",
        "plt.show()"
      ],
      "execution_count": 322,
      "outputs": [
        {
          "output_type": "display_data",
          "data": {
            "image/png": "[encoded data removed]",
            "text/plain": [
              "<Figure size 1440x576 with 1 Axes>"
            ]
          },
          "metadata": {
            "tags": [],
            "needs_background": "light"
          }
        }
      ]
    },
    {
      "cell_type": "markdown",
      "metadata": {
        "id": "2K5NIVP6cdUp",
        "colab_type": "text"
      },
      "source": [
        "We observe that California has the highest buyers, almost double New York, which has the second-highest buyers. Wyoming has the least buyers."
      ]
    },
    {
      "cell_type": "markdown",
      "metadata": {
        "id": "0xw6iITfc1LZ",
        "colab_type": "text"
      },
      "source": [
        "Let's check out the sales and profit for each state with the help of a double bar graph."
      ]
    },
    {
      "cell_type": "code",
      "metadata": {
        "id": "_rY9oeQfL5CR",
        "colab_type": "code",
        "colab": {
          "base_uri": "https://localhost:8080/",
          "height": 819
        },
        "outputId": "e580016c-4fe3-41c8-ea41-b1e7d3b96cfb"
      },
      "source": [
        "state_sale_profit = data.groupby('State')[['Sales','Profit']].sum()\n",
        "state_sale_profit.sort_values('Sales', ascending = False, inplace=True)\n",
        "state_sale_profit\n",
        "\n",
        "state_sale_profit.plot(kind = \"bar\", figsize=(25,12), color = ['darkviolet','dodgerblue'])\n",
        "plt.title('Sales/Profit in each State')\n",
        "plt.xticks(rotation = 90)\n",
        "plt.xlabel('State')\n",
        "plt.ylabel('Sales/Profit')\n",
        "plt.show()"
      ],
      "execution_count": 323,
      "outputs": [
        {
          "output_type": "display_data",
          "data": {
            "image/png": "[encoded data removed]",
            "text/plain": [
              "<Figure size 1800x864 with 1 Axes>"
            ]
          },
          "metadata": {
            "tags": [],
            "needs_background": "light"
          }
        }
      ]
    },
    {
      "cell_type": "markdown",
      "metadata": {
        "id": "CA_yz5I7c9U1",
        "colab_type": "text"
      },
      "source": [
        "We notice that quite a few of the states undergo an overall loss. Texas, which has the third-highest sales, witnesses a loss. Pennsylvania (fifth-highest sales) also witnesses a loss. Other states that witness a loss are; Florida, Illinois, Ohio, North Carolina, Arizona, Colorado, Tennessee.\n",
        "\n",
        "California has the highest profit and a close second is New York.\n",
        "\n",
        "Out of the top 10 states with the highest sales, 5 undergo an overall loss."
      ]
    },
    {
      "cell_type": "markdown",
      "metadata": {
        "id": "n20_lA5Sdjmh",
        "colab_type": "text"
      },
      "source": [
        "Let's observe the count plot for Sub-Categories."
      ]
    },
    {
      "cell_type": "code",
      "metadata": {
        "id": "Ck-q-C6mDAOI",
        "colab_type": "code",
        "colab": {
          "base_uri": "https://localhost:8080/",
          "height": 344
        },
        "outputId": "bcbced35-aa86-411c-cebf-6b6510e0d414"
      },
      "source": [
        "f, ax = plt.subplots(1, 1, figsize=(15,4))\n",
        "sns.countplot(x = data['Sub-Category'], order = data['Sub-Category'].value_counts().index, palette = 'plasma')\n",
        "plt.title('Order Count by Sub-Category')\n",
        "plt.xticks(rotation=90)\n",
        "plt.xlabel('Sub-Category')\n",
        "plt.ylabel('Orders')\n",
        "plt.show()"
      ],
      "execution_count": 324,
      "outputs": [
        {
          "output_type": "display_data",
          "data": {
            "image/png": "[encoded data removed]",
            "text/plain": [
              "<Figure size 1080x288 with 1 Axes>"
            ]
          },
          "metadata": {
            "tags": [],
            "needs_background": "light"
          }
        }
      ]
    },
    {
      "cell_type": "markdown",
      "metadata": {
        "id": "LUWTqs23dqZA",
        "colab_type": "text"
      },
      "source": [
        "Let's check out the sales and profit for each sub-category with the help of a double bar graph."
      ]
    },
    {
      "cell_type": "code",
      "metadata": {
        "id": "zMRxLgECPl2j",
        "colab_type": "code",
        "colab": {
          "base_uri": "https://localhost:8080/",
          "height": 562
        },
        "outputId": "bb69bbb5-ef52-4711-f255-9fd7bca5fc07"
      },
      "source": [
        "subcategory_sale_profit = data.groupby('Sub-Category')[['Sales', 'Profit']].sum()\n",
        "subcategory_sale_profit.sort_values('Sales', ascending = False, inplace=True)\n",
        "subcategory_sale_profit.plot(kind = \"bar\",color = [\"rebeccapurple\",\"mediumpurple\"], figsize = (20,8))\n",
        "\n",
        "plt.title('Sales/Profit in each Sub-Category')\n",
        "plt.xlabel('Category')\n",
        "plt.ylabel('Sales/Profit')\n",
        "plt.show()"
      ],
      "execution_count": 325,
      "outputs": [
        {
          "output_type": "display_data",
          "data": {
            "image/png": "[encoded data removed]",
            "text/plain": [
              "<Figure size 1440x576 with 1 Axes>"
            ]
          },
          "metadata": {
            "tags": [],
            "needs_background": "light"
          }
        }
      ]
    },
    {
      "cell_type": "code",
      "metadata": {
        "id": "ohvxl9LbH1kh",
        "colab_type": "code",
        "colab": {
          "base_uri": "https://localhost:8080/",
          "height": 576
        },
        "outputId": "6a23cb1b-5ebe-480e-89d2-0493f887ca6b"
      },
      "source": [
        "cat_sub_cat = data.groupby(['Category','Sub-Category'])[['Sales','Profit']].sum().reset_index()\n",
        "cat_sub_cat"
      ],
      "execution_count": 326,
      "outputs": [
        {
          "output_type": "execute_result",
          "data": {
            "text/html": [
              "<div>\n",
              "<style scoped>\n",
              "    .dataframe tbody tr th:only-of-type {\n",
              "        vertical-align: middle;\n",
              "    }\n",
              "\n",
              "    .dataframe tbody tr th {\n",
              "        vertical-align: top;\n",
              "    }\n",
              "\n",
              "    .dataframe thead th {\n",
              "        text-align: right;\n",
              "    }\n",
              "</style>\n",
              "<table border=\"1\" class=\"dataframe\">\n",
              "  <thead>\n",
              "    <tr style=\"text-align: right;\">\n",
              "      <th></th>\n",
              "      <th>Category</th>\n",
              "      <th>Sub-Category</th>\n",
              "      <th>Sales</th>\n",
              "      <th>Profit</th>\n",
              "    </tr>\n",
              "  </thead>\n",
              "  <tbody>\n",
              "    <tr>\n",
              "      <th>0</th>\n",
              "      <td>Furniture</td>\n",
              "      <td>Bookcases</td>\n",
              "      <td>114879.9963</td>\n",
              "      <td>-3472.5560</td>\n",
              "    </tr>\n",
              "    <tr>\n",
              "      <th>1</th>\n",
              "      <td>Furniture</td>\n",
              "      <td>Chairs</td>\n",
              "      <td>327777.7610</td>\n",
              "      <td>26567.1278</td>\n",
              "    </tr>\n",
              "    <tr>\n",
              "      <th>2</th>\n",
              "      <td>Furniture</td>\n",
              "      <td>Furnishings</td>\n",
              "      <td>91683.0240</td>\n",
              "      <td>13052.7230</td>\n",
              "    </tr>\n",
              "    <tr>\n",
              "      <th>3</th>\n",
              "      <td>Furniture</td>\n",
              "      <td>Tables</td>\n",
              "      <td>206965.5320</td>\n",
              "      <td>-17725.4811</td>\n",
              "    </tr>\n",
              "    <tr>\n",
              "      <th>4</th>\n",
              "      <td>Office Supplies</td>\n",
              "      <td>Appliances</td>\n",
              "      <td>107532.1610</td>\n",
              "      <td>18138.0054</td>\n",
              "    </tr>\n",
              "    <tr>\n",
              "      <th>5</th>\n",
              "      <td>Office Supplies</td>\n",
              "      <td>Art</td>\n",
              "      <td>27107.0320</td>\n",
              "      <td>6524.6118</td>\n",
              "    </tr>\n",
              "    <tr>\n",
              "      <th>6</th>\n",
              "      <td>Office Supplies</td>\n",
              "      <td>Binders</td>\n",
              "      <td>203409.1690</td>\n",
              "      <td>30228.0003</td>\n",
              "    </tr>\n",
              "    <tr>\n",
              "      <th>7</th>\n",
              "      <td>Office Supplies</td>\n",
              "      <td>Envelopes</td>\n",
              "      <td>16476.4020</td>\n",
              "      <td>6964.1767</td>\n",
              "    </tr>\n",
              "    <tr>\n",
              "      <th>8</th>\n",
              "      <td>Office Supplies</td>\n",
              "      <td>Fasteners</td>\n",
              "      <td>3024.2800</td>\n",
              "      <td>949.5182</td>\n",
              "    </tr>\n",
              "    <tr>\n",
              "      <th>9</th>\n",
              "      <td>Office Supplies</td>\n",
              "      <td>Labels</td>\n",
              "      <td>12444.9120</td>\n",
              "      <td>5526.3820</td>\n",
              "    </tr>\n",
              "    <tr>\n",
              "      <th>10</th>\n",
              "      <td>Office Supplies</td>\n",
              "      <td>Paper</td>\n",
              "      <td>78224.1420</td>\n",
              "      <td>33944.2395</td>\n",
              "    </tr>\n",
              "    <tr>\n",
              "      <th>11</th>\n",
              "      <td>Office Supplies</td>\n",
              "      <td>Storage</td>\n",
              "      <td>223843.6080</td>\n",
              "      <td>21278.8264</td>\n",
              "    </tr>\n",
              "    <tr>\n",
              "      <th>12</th>\n",
              "      <td>Office Supplies</td>\n",
              "      <td>Supplies</td>\n",
              "      <td>46673.5380</td>\n",
              "      <td>-1189.0995</td>\n",
              "    </tr>\n",
              "    <tr>\n",
              "      <th>13</th>\n",
              "      <td>Technology</td>\n",
              "      <td>Accessories</td>\n",
              "      <td>167380.3180</td>\n",
              "      <td>41936.6357</td>\n",
              "    </tr>\n",
              "    <tr>\n",
              "      <th>14</th>\n",
              "      <td>Technology</td>\n",
              "      <td>Copiers</td>\n",
              "      <td>149528.0300</td>\n",
              "      <td>55617.8249</td>\n",
              "    </tr>\n",
              "    <tr>\n",
              "      <th>15</th>\n",
              "      <td>Technology</td>\n",
              "      <td>Machines</td>\n",
              "      <td>189238.6310</td>\n",
              "      <td>3384.7569</td>\n",
              "    </tr>\n",
              "    <tr>\n",
              "      <th>16</th>\n",
              "      <td>Technology</td>\n",
              "      <td>Phones</td>\n",
              "      <td>330007.0540</td>\n",
              "      <td>44515.7306</td>\n",
              "    </tr>\n",
              "  </tbody>\n",
              "</table>\n",
              "</div>"
            ],
            "text/plain": [
              "           Category Sub-Category        Sales      Profit\n",
              "0         Furniture    Bookcases  114879.9963  -3472.5560\n",
              "1         Furniture       Chairs  327777.7610  26567.1278\n",
              "2         Furniture  Furnishings   91683.0240  13052.7230\n",
              "3         Furniture       Tables  206965.5320 -17725.4811\n",
              "4   Office Supplies   Appliances  107532.1610  18138.0054\n",
              "5   Office Supplies          Art   27107.0320   6524.6118\n",
              "6   Office Supplies      Binders  203409.1690  30228.0003\n",
              "7   Office Supplies    Envelopes   16476.4020   6964.1767\n",
              "8   Office Supplies    Fasteners    3024.2800    949.5182\n",
              "9   Office Supplies       Labels   12444.9120   5526.3820\n",
              "10  Office Supplies        Paper   78224.1420  33944.2395\n",
              "11  Office Supplies      Storage  223843.6080  21278.8264\n",
              "12  Office Supplies     Supplies   46673.5380  -1189.0995\n",
              "13       Technology  Accessories  167380.3180  41936.6357\n",
              "14       Technology      Copiers  149528.0300  55617.8249\n",
              "15       Technology     Machines  189238.6310   3384.7569\n",
              "16       Technology       Phones  330007.0540  44515.7306"
            ]
          },
          "metadata": {
            "tags": []
          },
          "execution_count": 326
        }
      ]
    },
    {
      "cell_type": "markdown",
      "metadata": {
        "id": "cprM7infdt49",
        "colab_type": "text"
      },
      "source": [
        "We can see that while the sales for tables is the fourth-highest, it still undergoes the highest overall loss. Bookcases also witness a loss. Supplies witness the least loss. The profit incurred for machines is low."
      ]
    },
    {
      "cell_type": "markdown",
      "metadata": {
        "id": "XnZhhF61e_6B",
        "colab_type": "text"
      },
      "source": [
        "Let's now observe the sales and profit of each sub-category separated by segment."
      ]
    },
    {
      "cell_type": "code",
      "metadata": {
        "id": "cFaQDlRVl1M2",
        "colab_type": "code",
        "colab": {
          "base_uri": "https://localhost:8080/",
          "height": 1000
        },
        "outputId": "1469dab7-ba4e-4bdd-8200-acbe310b0f9d"
      },
      "source": [
        "sub_seg = data.groupby(['Sub-Category', 'Segment'])[['Quantity','Sales','Profit']].sum().reset_index()\n",
        "sub_seg"
      ],
      "execution_count": 327,
      "outputs": [
        {
          "output_type": "execute_result",
          "data": {
            "text/html": [
              "<div>\n",
              "<style scoped>\n",
              "    .dataframe tbody tr th:only-of-type {\n",
              "        vertical-align: middle;\n",
              "    }\n",
              "\n",
              "    .dataframe tbody tr th {\n",
              "        vertical-align: top;\n",
              "    }\n",
              "\n",
              "    .dataframe thead th {\n",
              "        text-align: right;\n",
              "    }\n",
              "</style>\n",
              "<table border=\"1\" class=\"dataframe\">\n",
              "  <thead>\n",
              "    <tr style=\"text-align: right;\">\n",
              "      <th></th>\n",
              "      <th>Sub-Category</th>\n",
              "      <th>Segment</th>\n",
              "      <th>Quantity</th>\n",
              "      <th>Sales</th>\n",
              "      <th>Profit</th>\n",
              "    </tr>\n",
              "  </thead>\n",
              "  <tbody>\n",
              "    <tr>\n",
              "      <th>0</th>\n",
              "      <td>Accessories</td>\n",
              "      <td>Consumer</td>\n",
              "      <td>1578</td>\n",
              "      <td>87105.2380</td>\n",
              "      <td>20735.9225</td>\n",
              "    </tr>\n",
              "    <tr>\n",
              "      <th>1</th>\n",
              "      <td>Accessories</td>\n",
              "      <td>Corporate</td>\n",
              "      <td>881</td>\n",
              "      <td>48190.5640</td>\n",
              "      <td>12707.4805</td>\n",
              "    </tr>\n",
              "    <tr>\n",
              "      <th>2</th>\n",
              "      <td>Accessories</td>\n",
              "      <td>Home Office</td>\n",
              "      <td>517</td>\n",
              "      <td>32084.5160</td>\n",
              "      <td>8493.2327</td>\n",
              "    </tr>\n",
              "    <tr>\n",
              "      <th>3</th>\n",
              "      <td>Appliances</td>\n",
              "      <td>Consumer</td>\n",
              "      <td>908</td>\n",
              "      <td>52819.5810</td>\n",
              "      <td>6981.9282</td>\n",
              "    </tr>\n",
              "    <tr>\n",
              "      <th>4</th>\n",
              "      <td>Appliances</td>\n",
              "      <td>Corporate</td>\n",
              "      <td>569</td>\n",
              "      <td>36588.6830</td>\n",
              "      <td>7429.8952</td>\n",
              "    </tr>\n",
              "    <tr>\n",
              "      <th>5</th>\n",
              "      <td>Appliances</td>\n",
              "      <td>Home Office</td>\n",
              "      <td>252</td>\n",
              "      <td>18123.8970</td>\n",
              "      <td>3726.1820</td>\n",
              "    </tr>\n",
              "    <tr>\n",
              "      <th>6</th>\n",
              "      <td>Art</td>\n",
              "      <td>Consumer</td>\n",
              "      <td>1625</td>\n",
              "      <td>14251.9300</td>\n",
              "      <td>3454.3011</td>\n",
              "    </tr>\n",
              "    <tr>\n",
              "      <th>7</th>\n",
              "      <td>Art</td>\n",
              "      <td>Corporate</td>\n",
              "      <td>846</td>\n",
              "      <td>8578.6880</td>\n",
              "      <td>2001.4725</td>\n",
              "    </tr>\n",
              "    <tr>\n",
              "      <th>8</th>\n",
              "      <td>Art</td>\n",
              "      <td>Home Office</td>\n",
              "      <td>525</td>\n",
              "      <td>4276.4140</td>\n",
              "      <td>1068.8382</td>\n",
              "    </tr>\n",
              "    <tr>\n",
              "      <th>9</th>\n",
              "      <td>Binders</td>\n",
              "      <td>Consumer</td>\n",
              "      <td>3015</td>\n",
              "      <td>118161.0090</td>\n",
              "      <td>17995.5972</td>\n",
              "    </tr>\n",
              "    <tr>\n",
              "      <th>10</th>\n",
              "      <td>Binders</td>\n",
              "      <td>Corporate</td>\n",
              "      <td>1845</td>\n",
              "      <td>51556.7490</td>\n",
              "      <td>6383.5571</td>\n",
              "    </tr>\n",
              "    <tr>\n",
              "      <th>11</th>\n",
              "      <td>Binders</td>\n",
              "      <td>Home Office</td>\n",
              "      <td>1111</td>\n",
              "      <td>33691.4110</td>\n",
              "      <td>5848.8460</td>\n",
              "    </tr>\n",
              "    <tr>\n",
              "      <th>12</th>\n",
              "      <td>Bookcases</td>\n",
              "      <td>Consumer</td>\n",
              "      <td>496</td>\n",
              "      <td>68632.7290</td>\n",
              "      <td>-4435.6382</td>\n",
              "    </tr>\n",
              "    <tr>\n",
              "      <th>13</th>\n",
              "      <td>Bookcases</td>\n",
              "      <td>Corporate</td>\n",
              "      <td>271</td>\n",
              "      <td>34005.9243</td>\n",
              "      <td>638.4502</td>\n",
              "    </tr>\n",
              "    <tr>\n",
              "      <th>14</th>\n",
              "      <td>Bookcases</td>\n",
              "      <td>Home Office</td>\n",
              "      <td>101</td>\n",
              "      <td>12241.3430</td>\n",
              "      <td>324.6320</td>\n",
              "    </tr>\n",
              "    <tr>\n",
              "      <th>15</th>\n",
              "      <td>Chairs</td>\n",
              "      <td>Consumer</td>\n",
              "      <td>1231</td>\n",
              "      <td>172472.7720</td>\n",
              "      <td>13200.2346</td>\n",
              "    </tr>\n",
              "    <tr>\n",
              "      <th>16</th>\n",
              "      <td>Chairs</td>\n",
              "      <td>Corporate</td>\n",
              "      <td>719</td>\n",
              "      <td>99140.8780</td>\n",
              "      <td>8344.6565</td>\n",
              "    </tr>\n",
              "    <tr>\n",
              "      <th>17</th>\n",
              "      <td>Chairs</td>\n",
              "      <td>Home Office</td>\n",
              "      <td>401</td>\n",
              "      <td>56164.1110</td>\n",
              "      <td>5022.2367</td>\n",
              "    </tr>\n",
              "    <tr>\n",
              "      <th>18</th>\n",
              "      <td>Copiers</td>\n",
              "      <td>Consumer</td>\n",
              "      <td>117</td>\n",
              "      <td>69819.0700</td>\n",
              "      <td>24083.7106</td>\n",
              "    </tr>\n",
              "    <tr>\n",
              "      <th>19</th>\n",
              "      <td>Copiers</td>\n",
              "      <td>Corporate</td>\n",
              "      <td>70</td>\n",
              "      <td>46829.3860</td>\n",
              "      <td>18990.2789</td>\n",
              "    </tr>\n",
              "    <tr>\n",
              "      <th>20</th>\n",
              "      <td>Copiers</td>\n",
              "      <td>Home Office</td>\n",
              "      <td>47</td>\n",
              "      <td>32879.5740</td>\n",
              "      <td>12543.8354</td>\n",
              "    </tr>\n",
              "    <tr>\n",
              "      <th>21</th>\n",
              "      <td>Envelopes</td>\n",
              "      <td>Consumer</td>\n",
              "      <td>442</td>\n",
              "      <td>7771.1460</td>\n",
              "      <td>3264.4126</td>\n",
              "    </tr>\n",
              "    <tr>\n",
              "      <th>22</th>\n",
              "      <td>Envelopes</td>\n",
              "      <td>Corporate</td>\n",
              "      <td>323</td>\n",
              "      <td>5942.6700</td>\n",
              "      <td>2571.2290</td>\n",
              "    </tr>\n",
              "    <tr>\n",
              "      <th>23</th>\n",
              "      <td>Envelopes</td>\n",
              "      <td>Home Office</td>\n",
              "      <td>141</td>\n",
              "      <td>2762.5860</td>\n",
              "      <td>1128.5351</td>\n",
              "    </tr>\n",
              "    <tr>\n",
              "      <th>24</th>\n",
              "      <td>Fasteners</td>\n",
              "      <td>Consumer</td>\n",
              "      <td>473</td>\n",
              "      <td>1680.9420</td>\n",
              "      <td>576.8008</td>\n",
              "    </tr>\n",
              "    <tr>\n",
              "      <th>25</th>\n",
              "      <td>Fasteners</td>\n",
              "      <td>Corporate</td>\n",
              "      <td>273</td>\n",
              "      <td>783.2900</td>\n",
              "      <td>251.9030</td>\n",
              "    </tr>\n",
              "    <tr>\n",
              "      <th>26</th>\n",
              "      <td>Fasteners</td>\n",
              "      <td>Home Office</td>\n",
              "      <td>168</td>\n",
              "      <td>560.0480</td>\n",
              "      <td>120.8144</td>\n",
              "    </tr>\n",
              "    <tr>\n",
              "      <th>27</th>\n",
              "      <td>Furnishings</td>\n",
              "      <td>Consumer</td>\n",
              "      <td>1834</td>\n",
              "      <td>49620.0460</td>\n",
              "      <td>7919.4227</td>\n",
              "    </tr>\n",
              "    <tr>\n",
              "      <th>28</th>\n",
              "      <td>Furnishings</td>\n",
              "      <td>Corporate</td>\n",
              "      <td>1086</td>\n",
              "      <td>25001.2660</td>\n",
              "      <td>3508.2077</td>\n",
              "    </tr>\n",
              "    <tr>\n",
              "      <th>29</th>\n",
              "      <td>Furnishings</td>\n",
              "      <td>Home Office</td>\n",
              "      <td>640</td>\n",
              "      <td>17061.7120</td>\n",
              "      <td>1625.0926</td>\n",
              "    </tr>\n",
              "    <tr>\n",
              "      <th>30</th>\n",
              "      <td>Labels</td>\n",
              "      <td>Consumer</td>\n",
              "      <td>715</td>\n",
              "      <td>6709.2620</td>\n",
              "      <td>3075.9884</td>\n",
              "    </tr>\n",
              "    <tr>\n",
              "      <th>31</th>\n",
              "      <td>Labels</td>\n",
              "      <td>Corporate</td>\n",
              "      <td>398</td>\n",
              "      <td>4101.6460</td>\n",
              "      <td>1760.8273</td>\n",
              "    </tr>\n",
              "    <tr>\n",
              "      <th>32</th>\n",
              "      <td>Labels</td>\n",
              "      <td>Home Office</td>\n",
              "      <td>283</td>\n",
              "      <td>1634.0040</td>\n",
              "      <td>689.5663</td>\n",
              "    </tr>\n",
              "    <tr>\n",
              "      <th>33</th>\n",
              "      <td>Machines</td>\n",
              "      <td>Consumer</td>\n",
              "      <td>217</td>\n",
              "      <td>79542.8250</td>\n",
              "      <td>2141.0618</td>\n",
              "    </tr>\n",
              "    <tr>\n",
              "      <th>34</th>\n",
              "      <td>Machines</td>\n",
              "      <td>Corporate</td>\n",
              "      <td>141</td>\n",
              "      <td>60276.7550</td>\n",
              "      <td>703.0190</td>\n",
              "    </tr>\n",
              "    <tr>\n",
              "      <th>35</th>\n",
              "      <td>Machines</td>\n",
              "      <td>Home Office</td>\n",
              "      <td>82</td>\n",
              "      <td>49419.0510</td>\n",
              "      <td>540.6761</td>\n",
              "    </tr>\n",
              "    <tr>\n",
              "      <th>36</th>\n",
              "      <td>Paper</td>\n",
              "      <td>Consumer</td>\n",
              "      <td>2581</td>\n",
              "      <td>36145.7680</td>\n",
              "      <td>15457.9730</td>\n",
              "    </tr>\n",
              "    <tr>\n",
              "      <th>37</th>\n",
              "      <td>Paper</td>\n",
              "      <td>Corporate</td>\n",
              "      <td>1545</td>\n",
              "      <td>23822.2180</td>\n",
              "      <td>10334.3308</td>\n",
              "    </tr>\n",
              "    <tr>\n",
              "      <th>38</th>\n",
              "      <td>Paper</td>\n",
              "      <td>Home Office</td>\n",
              "      <td>1018</td>\n",
              "      <td>18256.1560</td>\n",
              "      <td>8151.9357</td>\n",
              "    </tr>\n",
              "    <tr>\n",
              "      <th>39</th>\n",
              "      <td>Phones</td>\n",
              "      <td>Consumer</td>\n",
              "      <td>1685</td>\n",
              "      <td>169932.7640</td>\n",
              "      <td>23837.1147</td>\n",
              "    </tr>\n",
              "    <tr>\n",
              "      <th>40</th>\n",
              "      <td>Phones</td>\n",
              "      <td>Corporate</td>\n",
              "      <td>1003</td>\n",
              "      <td>91153.4140</td>\n",
              "      <td>11766.2196</td>\n",
              "    </tr>\n",
              "    <tr>\n",
              "      <th>41</th>\n",
              "      <td>Phones</td>\n",
              "      <td>Home Office</td>\n",
              "      <td>601</td>\n",
              "      <td>68920.8760</td>\n",
              "      <td>8912.3963</td>\n",
              "    </tr>\n",
              "    <tr>\n",
              "      <th>42</th>\n",
              "      <td>Storage</td>\n",
              "      <td>Consumer</td>\n",
              "      <td>1619</td>\n",
              "      <td>100492.4020</td>\n",
              "      <td>7104.2004</td>\n",
              "    </tr>\n",
              "    <tr>\n",
              "      <th>43</th>\n",
              "      <td>Storage</td>\n",
              "      <td>Corporate</td>\n",
              "      <td>1000</td>\n",
              "      <td>79790.9980</td>\n",
              "      <td>9131.0247</td>\n",
              "    </tr>\n",
              "    <tr>\n",
              "      <th>44</th>\n",
              "      <td>Storage</td>\n",
              "      <td>Home Office</td>\n",
              "      <td>539</td>\n",
              "      <td>43560.2080</td>\n",
              "      <td>5043.6013</td>\n",
              "    </tr>\n",
              "    <tr>\n",
              "      <th>45</th>\n",
              "      <td>Supplies</td>\n",
              "      <td>Consumer</td>\n",
              "      <td>359</td>\n",
              "      <td>25741.4960</td>\n",
              "      <td>-1657.5513</td>\n",
              "    </tr>\n",
              "    <tr>\n",
              "      <th>46</th>\n",
              "      <td>Supplies</td>\n",
              "      <td>Corporate</td>\n",
              "      <td>202</td>\n",
              "      <td>19435.2840</td>\n",
              "      <td>338.9264</td>\n",
              "    </tr>\n",
              "    <tr>\n",
              "      <th>47</th>\n",
              "      <td>Supplies</td>\n",
              "      <td>Home Office</td>\n",
              "      <td>86</td>\n",
              "      <td>1496.7580</td>\n",
              "      <td>129.5254</td>\n",
              "    </tr>\n",
              "    <tr>\n",
              "      <th>48</th>\n",
              "      <td>Tables</td>\n",
              "      <td>Consumer</td>\n",
              "      <td>602</td>\n",
              "      <td>99933.7950</td>\n",
              "      <td>-9728.0378</td>\n",
              "    </tr>\n",
              "    <tr>\n",
              "      <th>49</th>\n",
              "      <td>Tables</td>\n",
              "      <td>Corporate</td>\n",
              "      <td>419</td>\n",
              "      <td>70871.7175</td>\n",
              "      <td>-4906.4986</td>\n",
              "    </tr>\n",
              "    <tr>\n",
              "      <th>50</th>\n",
              "      <td>Tables</td>\n",
              "      <td>Home Office</td>\n",
              "      <td>220</td>\n",
              "      <td>36160.0195</td>\n",
              "      <td>-3090.9447</td>\n",
              "    </tr>\n",
              "  </tbody>\n",
              "</table>\n",
              "</div>"
            ],
            "text/plain": [
              "   Sub-Category      Segment  Quantity        Sales      Profit\n",
              "0   Accessories     Consumer      1578   87105.2380  20735.9225\n",
              "1   Accessories    Corporate       881   48190.5640  12707.4805\n",
              "2   Accessories  Home Office       517   32084.5160   8493.2327\n",
              "3    Appliances     Consumer       908   52819.5810   6981.9282\n",
              "4    Appliances    Corporate       569   36588.6830   7429.8952\n",
              "5    Appliances  Home Office       252   18123.8970   3726.1820\n",
              "6           Art     Consumer      1625   14251.9300   3454.3011\n",
              "7           Art    Corporate       846    8578.6880   2001.4725\n",
              "8           Art  Home Office       525    4276.4140   1068.8382\n",
              "9       Binders     Consumer      3015  118161.0090  17995.5972\n",
              "10      Binders    Corporate      1845   51556.7490   6383.5571\n",
              "11      Binders  Home Office      1111   33691.4110   5848.8460\n",
              "12    Bookcases     Consumer       496   68632.7290  -4435.6382\n",
              "13    Bookcases    Corporate       271   34005.9243    638.4502\n",
              "14    Bookcases  Home Office       101   12241.3430    324.6320\n",
              "15       Chairs     Consumer      1231  172472.7720  13200.2346\n",
              "16       Chairs    Corporate       719   99140.8780   8344.6565\n",
              "17       Chairs  Home Office       401   56164.1110   5022.2367\n",
              "18      Copiers     Consumer       117   69819.0700  24083.7106\n",
              "19      Copiers    Corporate        70   46829.3860  18990.2789\n",
              "20      Copiers  Home Office        47   32879.5740  12543.8354\n",
              "21    Envelopes     Consumer       442    7771.1460   3264.4126\n",
              "22    Envelopes    Corporate       323    5942.6700   2571.2290\n",
              "23    Envelopes  Home Office       141    2762.5860   1128.5351\n",
              "24    Fasteners     Consumer       473    1680.9420    576.8008\n",
              "25    Fasteners    Corporate       273     783.2900    251.9030\n",
              "26    Fasteners  Home Office       168     560.0480    120.8144\n",
              "27  Furnishings     Consumer      1834   49620.0460   7919.4227\n",
              "28  Furnishings    Corporate      1086   25001.2660   3508.2077\n",
              "29  Furnishings  Home Office       640   17061.7120   1625.0926\n",
              "30       Labels     Consumer       715    6709.2620   3075.9884\n",
              "31       Labels    Corporate       398    4101.6460   1760.8273\n",
              "32       Labels  Home Office       283    1634.0040    689.5663\n",
              "33     Machines     Consumer       217   79542.8250   2141.0618\n",
              "34     Machines    Corporate       141   60276.7550    703.0190\n",
              "35     Machines  Home Office        82   49419.0510    540.6761\n",
              "36        Paper     Consumer      2581   36145.7680  15457.9730\n",
              "37        Paper    Corporate      1545   23822.2180  10334.3308\n",
              "38        Paper  Home Office      1018   18256.1560   8151.9357\n",
              "39       Phones     Consumer      1685  169932.7640  23837.1147\n",
              "40       Phones    Corporate      1003   91153.4140  11766.2196\n",
              "41       Phones  Home Office       601   68920.8760   8912.3963\n",
              "42      Storage     Consumer      1619  100492.4020   7104.2004\n",
              "43      Storage    Corporate      1000   79790.9980   9131.0247\n",
              "44      Storage  Home Office       539   43560.2080   5043.6013\n",
              "45     Supplies     Consumer       359   25741.4960  -1657.5513\n",
              "46     Supplies    Corporate       202   19435.2840    338.9264\n",
              "47     Supplies  Home Office        86    1496.7580    129.5254\n",
              "48       Tables     Consumer       602   99933.7950  -9728.0378\n",
              "49       Tables    Corporate       419   70871.7175  -4906.4986\n",
              "50       Tables  Home Office       220   36160.0195  -3090.9447"
            ]
          },
          "metadata": {
            "tags": []
          },
          "execution_count": 327
        }
      ]
    },
    {
      "cell_type": "code",
      "metadata": {
        "id": "qlzWUo1TrEzH",
        "colab_type": "code",
        "colab": {
          "base_uri": "https://localhost:8080/",
          "height": 1000
        },
        "outputId": "ec7715ee-5d26-49ad-8881-1571afd43d92"
      },
      "source": [
        "sns.catplot('Sub-Category', y='Sales', hue = 'Segment', data = sub_seg, kind='bar',palette='tab20c',aspect=2,height=8)\n",
        "plt.title('Sub-Category Sales Segment-wise')\n",
        "sns.catplot('Sub-Category', y='Profit', hue = 'Segment',data = sub_seg, kind='bar',palette='tab20c',aspect=2,height=8)\n",
        "plt.title('Sub-Category Profit Segment-wise')\n",
        "plt.show()"
      ],
      "execution_count": 328,
      "outputs": [
        {
          "output_type": "display_data",
          "data": {
            "image/png": "[encoded data removed]",
            "text/plain": [
              "<Figure size 1249.88x576 with 1 Axes>"
            ]
          },
          "metadata": {
            "tags": [],
            "needs_background": "light"
          }
        },
        {
          "output_type": "display_data",
          "data": {
            "image/png": "[encoded data removed]",
            "text/plain": [
              "<Figure size 1249.88x576 with 1 Axes>"
            ]
          },
          "metadata": {
            "tags": [],
            "needs_background": "light"
          }
        }
      ]
    },
    {
      "cell_type": "markdown",
      "metadata": {
        "id": "ESxagx9ZfW2h",
        "colab_type": "text"
      },
      "source": [
        "The first plot represents the Sales and the second plot represents Profit. We can clearly see that tables undergo a loss in each segment. Bookcases and supplies undergo a loss in the Consumer segment. "
      ]
    },
    {
      "cell_type": "markdown",
      "metadata": {
        "id": "i65Pez7ZzWx1",
        "colab_type": "text"
      },
      "source": [
        "Let's plot a scatter plot for Discount vs. Profit."
      ]
    },
    {
      "cell_type": "code",
      "metadata": {
        "id": "7k-6H07kyHWT",
        "colab_type": "code",
        "colab": {
          "base_uri": "https://localhost:8080/",
          "height": 295
        },
        "outputId": "6dc5eb64-19b4-43e5-c903-8811a735ffe6"
      },
      "source": [
        "plt.scatter(data['Discount'], data['Profit'])\n",
        "plt.title('Discount vs. Profit')\n",
        "plt.xlabel('Discount')\n",
        "plt.ylabel('Profit')\n",
        "plt.show()"
      ],
      "execution_count": 329,
      "outputs": [
        {
          "output_type": "display_data",
          "data": {
            "image/png": "[encoded data removed]",
            "text/plain": [
              "<Figure size 432x288 with 1 Axes>"
            ]
          },
          "metadata": {
            "tags": [],
            "needs_background": "light"
          }
        }
      ]
    },
    {
      "cell_type": "markdown",
      "metadata": {
        "id": "2z6iwedbyKd7",
        "colab_type": "text"
      },
      "source": [
        "We can observe that more the dicsount, lesser the profit."
      ]
    },
    {
      "cell_type": "code",
      "metadata": {
        "id": "tMtsi6AErkUr",
        "colab_type": "code",
        "colab": {
          "base_uri": "https://localhost:8080/",
          "height": 487
        },
        "outputId": "544fef4a-40d7-4bf2-9492-95519deb7a9c"
      },
      "source": [
        "data_for_corr = data[['Sales','Quantity','Discount','Profit']]\n",
        "plt.figure(figsize=(8,8))\n",
        "cm = data_for_corr.corr()\n",
        "sns.heatmap(cm,annot=True)\n",
        "plt.show()"
      ],
      "execution_count": 330,
      "outputs": [
        {
          "output_type": "display_data",
          "data": {
            "image/png": "[encoded data removed]",
            "text/plain": [
              "<Figure size 576x576 with 2 Axes>"
            ]
          },
          "metadata": {
            "tags": [],
            "needs_background": "light"
          }
        }
      ]
    },
    {
      "cell_type": "markdown",
      "metadata": {
        "id": "zn3sKmAPp4xa",
        "colab_type": "text"
      },
      "source": [
        "We can observe that Sales and Profit have a positive correlation, and so do Sales and Quantity to an extent.\n",
        "We can also observe that Profit and Discount have a negative correlation, and so do Sales and Discount to an extent."
      ]
    },
    {
      "cell_type": "code",
      "metadata": {
        "id": "z7xpy5zpo44_",
        "colab_type": "code",
        "colab": {
          "base_uri": "https://localhost:8080/",
          "height": 34
        },
        "outputId": "29858b7d-285a-4b34-ef97-4d5710d45875"
      },
      "source": [
        "np.mean(data['Profit'])"
      ],
      "execution_count": 331,
      "outputs": [
        {
          "output_type": "execute_result",
          "data": {
            "text/plain": [
              "28.69012955798349"
            ]
          },
          "metadata": {
            "tags": []
          },
          "execution_count": 331
        }
      ]
    },
    {
      "cell_type": "markdown",
      "metadata": {
        "id": "c0hhxbzJq85d",
        "colab_type": "text"
      },
      "source": [
        "The average profit of the firm is 28.69, which is low. But, hey, atleast the firm is not operating at a loss."
      ]
    },
    {
      "cell_type": "markdown",
      "metadata": {
        "id": "O1UavSgatkWR",
        "colab_type": "text"
      },
      "source": [
        "## Inferences\n",
        "\n",
        "1) In Shipping Modes, the most profitable and the most preferred shipping mode is the Standard Class. \\\n",
        "2) The Consumer Segment is the most profitable and has the most number of buyers. \\\n",
        "3) The Western region has the most sales and profit. However, the Central region has the least profit, and the Southern region has the least sales. \\\n",
        "4) Office Supplies has the highest frequency of purchases. Technology has the most sales and is the most profitable. Furniture has the least profit although it has the second-highest sales. \\\n",
        "5) Within Furniture, Tables in all segments undergoes heavy losses, and Tables also accounts for the highest loss amongst any other product. Bookcases in the Consumer segment witnesses losses. \\\n",
        "6) In Office Supplies, Supplies undergoes a loss in the Consumer Segment. \\\n",
        "7) In Office Supplies, Appliances has more sales in the Consumer segment than in the other segments. But the profit from Corporate segment is higher than that from Consumer segment. \\\n",
        "8) In technology, although Machines have a pretty decent sales, the resultant profit is low. However, copiers and accessories compensate for that. \\\n",
        "9) Out of the top 10 states with the highest sales, 5 undergo an overall loss. \\\n",
        "10) Texas, which has the third-highest sales, witnesses the highest loss. \\\n",
        "11) The profit for both California and New York is more or less the same. But California has the highest sales, and New York the second highest. Therefore, we can say that for the same amount of sales, New York is more profitable. \\\n",
        "12) A general observation is that more the sales, more the profit. \\\n",
        "13) More the discount, lesser the profit. \\\n",
        "14) The firm is operating at a low average profit of 28.69. But atleast it is not operating at a loss."
      ]
    }
  ]
}